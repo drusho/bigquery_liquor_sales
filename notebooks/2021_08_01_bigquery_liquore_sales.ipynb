{
  "nbformat": 4,
  "nbformat_minor": 0,
  "metadata": {
    "colab": {
      "name": "2021-08-01-bigquery-liquore-sales.ipynb",
      "provenance": [],
      "collapsed_sections": [],
      "authorship_tag": "ABX9TyN24qfZMc2rEolQ9dHDSVCW",
      "include_colab_link": true
    },
    "kernelspec": {
      "name": "python3",
      "display_name": "Python 3"
    },
    "language_info": {
      "name": "python"
    }
  },
  "cells": [
    {
      "cell_type": "markdown",
      "metadata": {
        "id": "view-in-github",
        "colab_type": "text"
      },
      "source": [
        "<a href=\"https://colab.research.google.com/github/drusho/bigquery_liquor_sales/blob/main/notebooks/2021_08_01_bigquery_liquore_sales.ipynb\" target=\"_parent\"><img src=\"https://colab.research.google.com/assets/colab-badge.svg\" alt=\"Open In Colab\"/></a>"
      ]
    },
    {
      "cell_type": "markdown",
      "metadata": {
        "id": "JQzq4lWjYYLE"
      },
      "source": [
        "# Using SQL to Analyze Iowa Liquor Sales\n",
        "> Exploring Public Datasets in Google BigQuery\n",
        "\n",
        "\n",
        "Tags\n",
        "* bigquery, pandas, plotly, sales, sql\n",
        "\n",
        "\n",
        "\n"
      ]
    },
    {
      "cell_type": "markdown",
      "metadata": {
        "id": "20qqeZJB-u65"
      },
      "source": [
        "## About the Data \n",
        "\n",
        "__Data Source:__ [data.iowa.gov](https://data.iowa.gov/Sales-Distribution/Iowa-Liquor-Sales/m3tr-qhgy)\n",
        "\n",
        "__Provided by:__ Iowa Department of Commerce, Alcoholic Beverages Division\n",
        "\n",
        "__Data Created:__ November 7, 2014\n",
        "\n",
        "__Last Updated:__ July 1, 2021\n",
        "\n",
        "This dataset contains the spirits purchase information of Iowa Class “E” liquor licensees by product and date of purchase from January 1, 2014 to current. The dataset can be used to analyze total spirits sales in Iowa of individual products at the store level.\n",
        "\n",
        "Class E liquor license, for grocery stores, liquor stores, convenience stores, etc., allows commercial establishments to sell liquor for off-premises consumption in original unopened containers."
      ]
    },
    {
      "cell_type": "markdown",
      "metadata": {
        "id": "jd2Rd83lkRnj"
      },
      "source": [
        "### Goals\n",
        "Determine sales trends for city/counties\n",
        "* Popular items sold\n",
        "* Locations for highest sales\n",
        "* Dates of most sales"
      ]
    },
    {
      "cell_type": "markdown",
      "metadata": {
        "id": "REhnXtKGbHUw"
      },
      "source": [
        "### Column Descriptions [(source)](https://data.iowa.gov/Sales-Distribution/Iowa-Liquor-Sales/m3tr-qhgy)\n",
        "\n",
        "<br> \n",
        "\n",
        "| Column Name | Description | Data Type |\n",
        "|:--|:--|:--|\n",
        "| Invoice/Item Number | Concatenated invoice and line number associated with the liquor order. | Plain Text |\n",
        "| Date | Date of Order | Date/Time |\n",
        "| Store Number | Unique number assigned to the store who ordered the liquor. | Plain Text |\n",
        "| Store Name | Name of store who ordered the liquor. | Plain Text  |\n",
        "| City | City where the store who ordered the liquor is located | Plain Text  |\n",
        "| Zip Code | Zip Code where the store who ordered the liquor is located | Plain Text  |\n",
        "| Store Location | Location of store who ordered the liquor. | Plain Text  |\n",
        "| County Number | Iowa county number for the county where store who ordered the liquor is located | Plain Text  |\n",
        "| County | County where the store who ordered the liquor is located | Plain Text  |\n",
        "| Category | Category code associated with the liquor ordered | Plain Text  |\n",
        "| Category Name | Category of the liquor ordered | Plain Text  |\n",
        "| Vendor Number | The vendor number of the company for the brand of liquor ordered | Plain Text  |\n",
        "| Vendor Name | The vendor name of the company for the brand of liquor ordered | Plain Text  |\n",
        "| Item Number | Item number for the individual liquor product ordered. | Plain Text  |\n",
        "| Item Description | Description of the individual liquor product ordered. | Plain Text  |\n",
        "| Pack | The number of bottles in a case for the liquor ordered | Number  |\n",
        "| Bottle Volume (ml) | Volume of each liquor bottle ordered in milliliters. | Number  |\n",
        "| State Bottle Cost | The amount that Alcoholic Beverages Division paid for each bottle of liquor ordered | Number  |\n",
        "| State Bottle Retail | The amount the store paid for each bottle of liquor ordered | Number |\n",
        "| Bottles Sold | The amount the store paid for each bottle of liquor ordered | Number |\n",
        "| Sale (Dollars) | Total cost of liquor order (number of bottles multiplied by the state bottle retail) | Number |\n",
        "| Volume Sold (Liters) | Total volume of liquor ordered in liters. (i.e. (Bottle Volume (ml) x Bottles Sold)/1,000) | Number |\n",
        "| Volume Sold (Gallons | Total volume of liquor ordered in gallons. (i.e. (Bottle Volume (ml) x Bottles Sold)/3785.411784) | Number |\n",
        "\n",
        "<br>\n",
        "\n",
        "_*Store Location_: \n",
        "\n",
        "The Address, City, State and Zip Code are geocoded to provide geographic coordinates. Accuracy of geocoding is dependent on how well the address is interpreted and the completeness of the reference data used. "
      ]
    },
    {
      "cell_type": "markdown",
      "metadata": {
        "id": "1x16FAgbfxQs"
      },
      "source": [
        "\n",
        "\n",
        "\n",
        "### Todo \n",
        "\n",
        "__date__\n",
        "* [x] Date of last update to dataset (return 1 item only)\n",
        "* [x] day of the week w/ most sales\n",
        "* [x] Month w/ most sales\n",
        "* [X] holiday(s) w/ most sales\n",
        "\n",
        "__sale_dollars/city/county__\n",
        "* [x] County/City with most liquor sales (top 5)\n",
        "\n",
        "__sale_dollars/vendor_name__\n",
        "* [x] most sales\n",
        "\n",
        "__item_description/sale_dollars/\n",
        "* [x] top 5 sales\n",
        "\n",
        "__store_location__\n",
        "* [ ] map coordinatos by most sales\n",
        " "
      ]
    },
    {
      "cell_type": "code",
      "metadata": {
        "colab": {
          "base_uri": "https://localhost:8080/"
        },
        "id": "QioR_MY95iNh",
        "outputId": "08f5e1a1-c16b-41a3-e7de-d82563120119"
      },
      "source": [
        "# must upgrade plotly to avoid duplicate legend labels \n",
        "# https://community.plotly.com/t/redundant-legend-labels-unreproducable-tutorial/55175/2\n",
        "\n",
        "!pip install plotly --upgrade"
      ],
      "execution_count": null,
      "outputs": [
        {
          "output_type": "stream",
          "text": [
            "Requirement already satisfied: plotly in /usr/local/lib/python3.7/dist-packages (5.1.0)\n",
            "Requirement already satisfied: six in /usr/local/lib/python3.7/dist-packages (from plotly) (1.15.0)\n",
            "Requirement already satisfied: tenacity>=6.2.0 in /usr/local/lib/python3.7/dist-packages (from plotly) (8.0.1)\n"
          ],
          "name": "stdout"
        }
      ]
    },
    {
      "cell_type": "code",
      "metadata": {
        "id": "CuskvqAo_x6a"
      },
      "source": [
        "import pandas as pd\n",
        "from google.colab import auth\n",
        "auth.authenticate_user()"
      ],
      "execution_count": null,
      "outputs": []
    },
    {
      "cell_type": "code",
      "metadata": {
        "id": "iLyYaSMGmH1E"
      },
      "source": [
        "# Google BigQuery Setup\n",
        "\n",
        "#Project ID\n",
        "pjt_id = \"brilliant-era-321603\" \n",
        "\n",
        "# data locations\n",
        "bpd = \"bigquery-public-data\"\n",
        "dataset = \"iowa_liquor_sales\"\n",
        "table = \"sales\"\n",
        "\n",
        "# data location full path\n",
        "dataloc = f\"`{bpd}.{dataset}.{table}`\""
      ],
      "execution_count": null,
      "outputs": []
    },
    {
      "cell_type": "code",
      "metadata": {
        "colab": {
          "base_uri": "https://localhost:8080/",
          "height": 393
        },
        "id": "q3Nbm8oZNCxX",
        "outputId": "e7d7d314-930a-4d3d-9cff-ff5eba6586a5"
      },
      "source": [
        "# query: count table rows and shows years\n",
        "row_count = pd.io.gbq.read_gbq(\n",
        "    f\"\"\"\n",
        " SELECT\n",
        "    COUNT(*) as total_rows\n",
        "  FROM {dataloc}\"\"\",\n",
        "    project_id=pjt_id,\n",
        ")\n",
        "\n",
        "yrs = pd.io.gbq.read_gbq(\n",
        "    f\"\"\"SELECT\n",
        "  DISTINCT(FORMAT_DATE('%Y', date)) AS years,\n",
        "  FROM {dataloc}\n",
        "  ORDER BY\n",
        "    years DESC \"\"\",\n",
        "    project_id=pjt_id,)\n",
        "\n",
        "print(row_count)\n",
        "yrs"
      ],
      "execution_count": null,
      "outputs": [
        {
          "output_type": "stream",
          "text": [
            "   total_rows\n",
            "0    19118960\n"
          ],
          "name": "stdout"
        },
        {
          "output_type": "execute_result",
          "data": {
            "text/html": [
              "<div>\n",
              "<style scoped>\n",
              "    .dataframe tbody tr th:only-of-type {\n",
              "        vertical-align: middle;\n",
              "    }\n",
              "\n",
              "    .dataframe tbody tr th {\n",
              "        vertical-align: top;\n",
              "    }\n",
              "\n",
              "    .dataframe thead th {\n",
              "        text-align: right;\n",
              "    }\n",
              "</style>\n",
              "<table border=\"1\" class=\"dataframe\">\n",
              "  <thead>\n",
              "    <tr style=\"text-align: right;\">\n",
              "      <th></th>\n",
              "      <th>years</th>\n",
              "    </tr>\n",
              "  </thead>\n",
              "  <tbody>\n",
              "    <tr>\n",
              "      <th>0</th>\n",
              "      <td>2020</td>\n",
              "    </tr>\n",
              "    <tr>\n",
              "      <th>1</th>\n",
              "      <td>2019</td>\n",
              "    </tr>\n",
              "    <tr>\n",
              "      <th>2</th>\n",
              "      <td>2018</td>\n",
              "    </tr>\n",
              "    <tr>\n",
              "      <th>3</th>\n",
              "      <td>2017</td>\n",
              "    </tr>\n",
              "    <tr>\n",
              "      <th>4</th>\n",
              "      <td>2016</td>\n",
              "    </tr>\n",
              "    <tr>\n",
              "      <th>5</th>\n",
              "      <td>2015</td>\n",
              "    </tr>\n",
              "    <tr>\n",
              "      <th>6</th>\n",
              "      <td>2014</td>\n",
              "    </tr>\n",
              "    <tr>\n",
              "      <th>7</th>\n",
              "      <td>2013</td>\n",
              "    </tr>\n",
              "    <tr>\n",
              "      <th>8</th>\n",
              "      <td>2012</td>\n",
              "    </tr>\n",
              "    <tr>\n",
              "      <th>9</th>\n",
              "      <td>None</td>\n",
              "    </tr>\n",
              "  </tbody>\n",
              "</table>\n",
              "</div>"
            ],
            "text/plain": [
              "  years\n",
              "0  2020\n",
              "1  2019\n",
              "2  2018\n",
              "3  2017\n",
              "4  2016\n",
              "5  2015\n",
              "6  2014\n",
              "7  2013\n",
              "8  2012\n",
              "9  None"
            ]
          },
          "metadata": {
            "tags": []
          },
          "execution_count": 5
        }
      ]
    },
    {
      "cell_type": "code",
      "metadata": {
        "colab": {
          "base_uri": "https://localhost:8080/",
          "height": 204
        },
        "id": "nEH0XcWvaiA4",
        "outputId": "bf5ecf67-6b68-499b-8346-8e2c15a69a10"
      },
      "source": [
        "# query: top 5 sales by date \n",
        "sum_sales_date = pd.io.gbq.read_gbq(\n",
        "    f\"\"\"\n",
        "  SELECT\n",
        "    date,\n",
        "    FORMAT_DATE('%A', date) AS day_name,\n",
        "    ROUND(SUM(sale_dollars),2) AS total_sales,\n",
        "  FROM\n",
        "    {dataloc}\n",
        "  GROUP BY\n",
        "    date\n",
        "  ORDER BY\n",
        "    total_sales DESC\n",
        "  \"\"\",\n",
        "    project_id=pjt_id,) \n",
        "\n",
        "sum_sales_date.head(5)"
      ],
      "execution_count": null,
      "outputs": [
        {
          "output_type": "execute_result",
          "data": {
            "text/html": [
              "<div>\n",
              "<style scoped>\n",
              "    .dataframe tbody tr th:only-of-type {\n",
              "        vertical-align: middle;\n",
              "    }\n",
              "\n",
              "    .dataframe tbody tr th {\n",
              "        vertical-align: top;\n",
              "    }\n",
              "\n",
              "    .dataframe thead th {\n",
              "        text-align: right;\n",
              "    }\n",
              "</style>\n",
              "<table border=\"1\" class=\"dataframe\">\n",
              "  <thead>\n",
              "    <tr style=\"text-align: right;\">\n",
              "      <th></th>\n",
              "      <th>date</th>\n",
              "      <th>day_name</th>\n",
              "      <th>total_sales</th>\n",
              "    </tr>\n",
              "  </thead>\n",
              "  <tbody>\n",
              "    <tr>\n",
              "      <th>0</th>\n",
              "      <td>2013-10-04</td>\n",
              "      <td>Friday</td>\n",
              "      <td>3516318.05</td>\n",
              "    </tr>\n",
              "    <tr>\n",
              "      <th>1</th>\n",
              "      <td>2013-10-11</td>\n",
              "      <td>Friday</td>\n",
              "      <td>3278998.01</td>\n",
              "    </tr>\n",
              "    <tr>\n",
              "      <th>2</th>\n",
              "      <td>2020-09-29</td>\n",
              "      <td>Tuesday</td>\n",
              "      <td>2420417.11</td>\n",
              "    </tr>\n",
              "    <tr>\n",
              "      <th>3</th>\n",
              "      <td>2019-07-31</td>\n",
              "      <td>Wednesday</td>\n",
              "      <td>2357939.86</td>\n",
              "    </tr>\n",
              "    <tr>\n",
              "      <th>4</th>\n",
              "      <td>2019-09-05</td>\n",
              "      <td>Thursday</td>\n",
              "      <td>2290099.19</td>\n",
              "    </tr>\n",
              "  </tbody>\n",
              "</table>\n",
              "</div>"
            ],
            "text/plain": [
              "        date   day_name  total_sales\n",
              "0 2013-10-04     Friday   3516318.05\n",
              "1 2013-10-11     Friday   3278998.01\n",
              "2 2020-09-29    Tuesday   2420417.11\n",
              "3 2019-07-31  Wednesday   2357939.86\n",
              "4 2019-09-05   Thursday   2290099.19"
            ]
          },
          "metadata": {
            "tags": []
          },
          "execution_count": 5
        }
      ]
    },
    {
      "cell_type": "code",
      "metadata": {
        "colab": {
          "base_uri": "https://localhost:8080/",
          "height": 204
        },
        "id": "2TnWwIHpf3LJ",
        "outputId": "29ff6ddc-9758-4bbc-936d-1a6fa43e828d"
      },
      "source": [
        "# query: top 5sales by weekday name\n",
        "sum_sales_wkday = pd.io.gbq.read_gbq(\n",
        "    f\"\"\"\n",
        "  SELECT\n",
        "    FORMAT_DATE('%A', date) AS day_name,\n",
        "    ROUND(SUM(sale_dollars),2) AS total_sales,\n",
        "  FROM\n",
        "    {dataloc}\n",
        "  GROUP BY\n",
        "    day_name\n",
        "  ORDER BY\n",
        "    total_sales DESC\n",
        "  \"\"\",\n",
        "    project_id=pjt_id,) \n",
        "\n",
        "sum_sales_wkday.head(5)"
      ],
      "execution_count": null,
      "outputs": [
        {
          "output_type": "execute_result",
          "data": {
            "text/html": [
              "<div>\n",
              "<style scoped>\n",
              "    .dataframe tbody tr th:only-of-type {\n",
              "        vertical-align: middle;\n",
              "    }\n",
              "\n",
              "    .dataframe tbody tr th {\n",
              "        vertical-align: top;\n",
              "    }\n",
              "\n",
              "    .dataframe thead th {\n",
              "        text-align: right;\n",
              "    }\n",
              "</style>\n",
              "<table border=\"1\" class=\"dataframe\">\n",
              "  <thead>\n",
              "    <tr style=\"text-align: right;\">\n",
              "      <th></th>\n",
              "      <th>day_name</th>\n",
              "      <th>total_sales</th>\n",
              "    </tr>\n",
              "  </thead>\n",
              "  <tbody>\n",
              "    <tr>\n",
              "      <th>0</th>\n",
              "      <td>Monday</td>\n",
              "      <td>6.146334e+08</td>\n",
              "    </tr>\n",
              "    <tr>\n",
              "      <th>1</th>\n",
              "      <td>Wednesday</td>\n",
              "      <td>5.972763e+08</td>\n",
              "    </tr>\n",
              "    <tr>\n",
              "      <th>2</th>\n",
              "      <td>Tuesday</td>\n",
              "      <td>5.685008e+08</td>\n",
              "    </tr>\n",
              "    <tr>\n",
              "      <th>3</th>\n",
              "      <td>Thursday</td>\n",
              "      <td>5.415577e+08</td>\n",
              "    </tr>\n",
              "    <tr>\n",
              "      <th>4</th>\n",
              "      <td>Friday</td>\n",
              "      <td>2.400187e+08</td>\n",
              "    </tr>\n",
              "  </tbody>\n",
              "</table>\n",
              "</div>"
            ],
            "text/plain": [
              "    day_name   total_sales\n",
              "0     Monday  6.146334e+08\n",
              "1  Wednesday  5.972763e+08\n",
              "2    Tuesday  5.685008e+08\n",
              "3   Thursday  5.415577e+08\n",
              "4     Friday  2.400187e+08"
            ]
          },
          "metadata": {
            "tags": []
          },
          "execution_count": 7
        }
      ]
    },
    {
      "cell_type": "code",
      "metadata": {
        "colab": {
          "base_uri": "https://localhost:8080/",
          "height": 204
        },
        "id": "dN4YNml3iwYG",
        "outputId": "f42a1cd1-9fc4-4658-dedb-c96338a4b228"
      },
      "source": [
        "# query: top 5 sales by month name\n",
        "sum_sales_mth = pd.io.gbq.read_gbq(\n",
        "    f\"\"\"\n",
        "  SELECT\n",
        "    FORMAT_DATE('%B', date) AS month,\n",
        "    ROUND(SUM(sale_dollars),2) AS total_sales,\n",
        "  FROM\n",
        "    {dataloc}\n",
        "  GROUP BY\n",
        "    month\n",
        "  ORDER BY\n",
        "    total_sales DESC\n",
        "  \"\"\",\n",
        "    project_id=pjt_id,) \n",
        "\n",
        "sum_sales_mth.head(5)"
      ],
      "execution_count": null,
      "outputs": [
        {
          "output_type": "execute_result",
          "data": {
            "text/html": [
              "<div>\n",
              "<style scoped>\n",
              "    .dataframe tbody tr th:only-of-type {\n",
              "        vertical-align: middle;\n",
              "    }\n",
              "\n",
              "    .dataframe tbody tr th {\n",
              "        vertical-align: top;\n",
              "    }\n",
              "\n",
              "    .dataframe thead th {\n",
              "        text-align: right;\n",
              "    }\n",
              "</style>\n",
              "<table border=\"1\" class=\"dataframe\">\n",
              "  <thead>\n",
              "    <tr style=\"text-align: right;\">\n",
              "      <th></th>\n",
              "      <th>month</th>\n",
              "      <th>total_sales</th>\n",
              "    </tr>\n",
              "  </thead>\n",
              "  <tbody>\n",
              "    <tr>\n",
              "      <th>0</th>\n",
              "      <td>October</td>\n",
              "      <td>2.474805e+08</td>\n",
              "    </tr>\n",
              "    <tr>\n",
              "      <th>1</th>\n",
              "      <td>June</td>\n",
              "      <td>2.425365e+08</td>\n",
              "    </tr>\n",
              "    <tr>\n",
              "      <th>2</th>\n",
              "      <td>May</td>\n",
              "      <td>2.370718e+08</td>\n",
              "    </tr>\n",
              "    <tr>\n",
              "      <th>3</th>\n",
              "      <td>August</td>\n",
              "      <td>2.311448e+08</td>\n",
              "    </tr>\n",
              "    <tr>\n",
              "      <th>4</th>\n",
              "      <td>July</td>\n",
              "      <td>2.263198e+08</td>\n",
              "    </tr>\n",
              "  </tbody>\n",
              "</table>\n",
              "</div>"
            ],
            "text/plain": [
              "     month   total_sales\n",
              "0  October  2.474805e+08\n",
              "1     June  2.425365e+08\n",
              "2      May  2.370718e+08\n",
              "3   August  2.311448e+08\n",
              "4     July  2.263198e+08"
            ]
          },
          "metadata": {
            "tags": []
          },
          "execution_count": 8
        }
      ]
    },
    {
      "cell_type": "code",
      "metadata": {
        "colab": {
          "base_uri": "https://localhost:8080/",
          "height": 204
        },
        "id": "cQwnOsUMjO8C",
        "outputId": "9803e1e1-d4b5-4241-f078-2d0dcf9de4b5"
      },
      "source": [
        "# query: top 5sales by month (December)\n",
        "dec_sum_sales = pd.io.gbq.read_gbq(\n",
        "    f\"\"\"\n",
        "  SELECT\n",
        "    EXTRACT(DAY FROM date) AS the_day,\n",
        "    ROUND(SUM(sale_dollars),2) AS total_sales,\n",
        "  FROM\n",
        "     {dataloc}\n",
        "  WHERE\n",
        "    FORMAT_DATE('%B', date) = 'December'\n",
        "  GROUP BY\n",
        "    the_day\n",
        "  ORDER BY\n",
        "    total_sales DESC\n",
        "  \"\"\",\n",
        "    project_id=pjt_id,) \n",
        "\n",
        "dec_sum_sales.head(5)"
      ],
      "execution_count": null,
      "outputs": [
        {
          "output_type": "execute_result",
          "data": {
            "text/html": [
              "<div>\n",
              "<style scoped>\n",
              "    .dataframe tbody tr th:only-of-type {\n",
              "        vertical-align: middle;\n",
              "    }\n",
              "\n",
              "    .dataframe tbody tr th {\n",
              "        vertical-align: top;\n",
              "    }\n",
              "\n",
              "    .dataframe thead th {\n",
              "        text-align: right;\n",
              "    }\n",
              "</style>\n",
              "<table border=\"1\" class=\"dataframe\">\n",
              "  <thead>\n",
              "    <tr style=\"text-align: right;\">\n",
              "      <th></th>\n",
              "      <th>the_day</th>\n",
              "      <th>total_sales</th>\n",
              "    </tr>\n",
              "  </thead>\n",
              "  <tbody>\n",
              "    <tr>\n",
              "      <th>0</th>\n",
              "      <td>26</td>\n",
              "      <td>11284143.90</td>\n",
              "    </tr>\n",
              "    <tr>\n",
              "      <th>1</th>\n",
              "      <td>27</td>\n",
              "      <td>10255324.46</td>\n",
              "    </tr>\n",
              "    <tr>\n",
              "      <th>2</th>\n",
              "      <td>19</td>\n",
              "      <td>9622026.31</td>\n",
              "    </tr>\n",
              "    <tr>\n",
              "      <th>3</th>\n",
              "      <td>21</td>\n",
              "      <td>9506483.97</td>\n",
              "    </tr>\n",
              "    <tr>\n",
              "      <th>4</th>\n",
              "      <td>18</td>\n",
              "      <td>9504026.97</td>\n",
              "    </tr>\n",
              "  </tbody>\n",
              "</table>\n",
              "</div>"
            ],
            "text/plain": [
              "   the_day  total_sales\n",
              "0       26  11284143.90\n",
              "1       27  10255324.46\n",
              "2       19   9622026.31\n",
              "3       21   9506483.97\n",
              "4       18   9504026.97"
            ]
          },
          "metadata": {
            "tags": []
          },
          "execution_count": 9
        }
      ]
    },
    {
      "cell_type": "code",
      "metadata": {
        "colab": {
          "base_uri": "https://localhost:8080/",
          "height": 204
        },
        "id": "I3sU_7MAgVII",
        "outputId": "182ba072-179f-4fd8-c2d7-d1b4a55383b0"
      },
      "source": [
        "# query: top 5 sales by month (June)\n",
        "june_sum_sales = pd.io.gbq.read_gbq(\n",
        "    f\"\"\"\n",
        "  SELECT\n",
        "    EXTRACT(DAY FROM date) AS the_day,\n",
        "    ROUND(SUM(sale_dollars),2) AS total_sales,\n",
        "  FROM\n",
        "     {dataloc}\n",
        "  WHERE\n",
        "    FORMAT_DATE('%B', date) = 'June'\n",
        "  GROUP BY\n",
        "    the_day\n",
        "  ORDER BY\n",
        "    total_sales DESC\n",
        "  \"\"\",\n",
        "    project_id=pjt_id,) \n",
        "\n",
        "june_sum_sales.head(5)"
      ],
      "execution_count": null,
      "outputs": [
        {
          "output_type": "execute_result",
          "data": {
            "text/html": [
              "<div>\n",
              "<style scoped>\n",
              "    .dataframe tbody tr th:only-of-type {\n",
              "        vertical-align: middle;\n",
              "    }\n",
              "\n",
              "    .dataframe tbody tr th {\n",
              "        vertical-align: top;\n",
              "    }\n",
              "\n",
              "    .dataframe thead th {\n",
              "        text-align: right;\n",
              "    }\n",
              "</style>\n",
              "<table border=\"1\" class=\"dataframe\">\n",
              "  <thead>\n",
              "    <tr style=\"text-align: right;\">\n",
              "      <th></th>\n",
              "      <th>the_day</th>\n",
              "      <th>total_sales</th>\n",
              "    </tr>\n",
              "  </thead>\n",
              "  <tbody>\n",
              "    <tr>\n",
              "      <th>0</th>\n",
              "      <td>26</td>\n",
              "      <td>12997654.91</td>\n",
              "    </tr>\n",
              "    <tr>\n",
              "      <th>1</th>\n",
              "      <td>27</td>\n",
              "      <td>11085004.80</td>\n",
              "    </tr>\n",
              "    <tr>\n",
              "      <th>2</th>\n",
              "      <td>25</td>\n",
              "      <td>10683658.61</td>\n",
              "    </tr>\n",
              "    <tr>\n",
              "      <th>3</th>\n",
              "      <td>5</td>\n",
              "      <td>9840296.04</td>\n",
              "    </tr>\n",
              "    <tr>\n",
              "      <th>4</th>\n",
              "      <td>4</td>\n",
              "      <td>9823520.72</td>\n",
              "    </tr>\n",
              "  </tbody>\n",
              "</table>\n",
              "</div>"
            ],
            "text/plain": [
              "   the_day  total_sales\n",
              "0       26  12997654.91\n",
              "1       27  11085004.80\n",
              "2       25  10683658.61\n",
              "3        5   9840296.04\n",
              "4        4   9823520.72"
            ]
          },
          "metadata": {
            "tags": []
          },
          "execution_count": 10
        }
      ]
    },
    {
      "cell_type": "code",
      "metadata": {
        "colab": {
          "base_uri": "https://localhost:8080/",
          "height": 204
        },
        "id": "BrMODgVK2KhK",
        "outputId": "1d1ca733-c75b-4fc5-8817-d56138e32a72"
      },
      "source": [
        "# query: top 5 sales by city\n",
        "city_sum_sales = pd.io.gbq.read_gbq(\n",
        "    f\"\"\"\n",
        "  SELECT\n",
        "    LOWER(city) AS city,\n",
        "    ROUND(CAST(SUM(sale_dollars) AS numeric),0) AS total_sales,\n",
        "  FROM\n",
        "     {dataloc}\n",
        "  GROUP BY\n",
        "    city\n",
        "  ORDER BY\n",
        "    total_sales DESC\n",
        "  \"\"\",\n",
        "    project_id=pjt_id,) \n",
        "\n",
        "city_sum_sales.head(5)"
      ],
      "execution_count": null,
      "outputs": [
        {
          "output_type": "execute_result",
          "data": {
            "text/html": [
              "<div>\n",
              "<style scoped>\n",
              "    .dataframe tbody tr th:only-of-type {\n",
              "        vertical-align: middle;\n",
              "    }\n",
              "\n",
              "    .dataframe tbody tr th {\n",
              "        vertical-align: top;\n",
              "    }\n",
              "\n",
              "    .dataframe thead th {\n",
              "        text-align: right;\n",
              "    }\n",
              "</style>\n",
              "<table border=\"1\" class=\"dataframe\">\n",
              "  <thead>\n",
              "    <tr style=\"text-align: right;\">\n",
              "      <th></th>\n",
              "      <th>city</th>\n",
              "      <th>total_sales</th>\n",
              "    </tr>\n",
              "  </thead>\n",
              "  <tbody>\n",
              "    <tr>\n",
              "      <th>0</th>\n",
              "      <td>des moines</td>\n",
              "      <td>316446115</td>\n",
              "    </tr>\n",
              "    <tr>\n",
              "      <th>1</th>\n",
              "      <td>cedar rapids</td>\n",
              "      <td>173729963</td>\n",
              "    </tr>\n",
              "    <tr>\n",
              "      <th>2</th>\n",
              "      <td>davenport</td>\n",
              "      <td>131458370</td>\n",
              "    </tr>\n",
              "    <tr>\n",
              "      <th>3</th>\n",
              "      <td>west des moines</td>\n",
              "      <td>98289070</td>\n",
              "    </tr>\n",
              "    <tr>\n",
              "      <th>4</th>\n",
              "      <td>waterloo</td>\n",
              "      <td>91743568</td>\n",
              "    </tr>\n",
              "  </tbody>\n",
              "</table>\n",
              "</div>"
            ],
            "text/plain": [
              "              city total_sales\n",
              "0       des moines   316446115\n",
              "1     cedar rapids   173729963\n",
              "2        davenport   131458370\n",
              "3  west des moines    98289070\n",
              "4         waterloo    91743568"
            ]
          },
          "metadata": {
            "tags": []
          },
          "execution_count": 11
        }
      ]
    },
    {
      "cell_type": "code",
      "metadata": {
        "colab": {
          "base_uri": "https://localhost:8080/",
          "height": 204
        },
        "id": "7cCwRIiS9TWb",
        "outputId": "863a1321-6dfa-4ef4-caf2-002e43028744"
      },
      "source": [
        "# query: top 5 sales by county\n",
        "county_sum_sales = pd.io.gbq.read_gbq(\n",
        "    f\"\"\"\n",
        "  SELECT\n",
        "    LOWER(county) AS county,\n",
        "    ROUND(CAST(SUM(sale_dollars) AS numeric),0) AS total_sales,\n",
        "  FROM\n",
        "     {dataloc}\n",
        "  GROUP BY\n",
        "    county\n",
        "  ORDER BY\n",
        "    total_sales DESC\n",
        "  \"\"\",\n",
        "    project_id=pjt_id,) \n",
        "\n",
        "county_sum_sales.head(5)"
      ],
      "execution_count": null,
      "outputs": [
        {
          "output_type": "execute_result",
          "data": {
            "text/html": [
              "<div>\n",
              "<style scoped>\n",
              "    .dataframe tbody tr th:only-of-type {\n",
              "        vertical-align: middle;\n",
              "    }\n",
              "\n",
              "    .dataframe tbody tr th {\n",
              "        vertical-align: top;\n",
              "    }\n",
              "\n",
              "    .dataframe thead th {\n",
              "        text-align: right;\n",
              "    }\n",
              "</style>\n",
              "<table border=\"1\" class=\"dataframe\">\n",
              "  <thead>\n",
              "    <tr style=\"text-align: right;\">\n",
              "      <th></th>\n",
              "      <th>county</th>\n",
              "      <th>total_sales</th>\n",
              "    </tr>\n",
              "  </thead>\n",
              "  <tbody>\n",
              "    <tr>\n",
              "      <th>0</th>\n",
              "      <td>polk</td>\n",
              "      <td>577370868</td>\n",
              "    </tr>\n",
              "    <tr>\n",
              "      <th>1</th>\n",
              "      <td>linn</td>\n",
              "      <td>224323673</td>\n",
              "    </tr>\n",
              "    <tr>\n",
              "      <th>2</th>\n",
              "      <td>scott</td>\n",
              "      <td>184738695</td>\n",
              "    </tr>\n",
              "    <tr>\n",
              "      <th>3</th>\n",
              "      <td>johnson</td>\n",
              "      <td>153257799</td>\n",
              "    </tr>\n",
              "    <tr>\n",
              "      <th>4</th>\n",
              "      <td>black hawk</td>\n",
              "      <td>145297452</td>\n",
              "    </tr>\n",
              "  </tbody>\n",
              "</table>\n",
              "</div>"
            ],
            "text/plain": [
              "       county total_sales\n",
              "0        polk   577370868\n",
              "1        linn   224323673\n",
              "2       scott   184738695\n",
              "3     johnson   153257799\n",
              "4  black hawk   145297452"
            ]
          },
          "metadata": {
            "tags": []
          },
          "execution_count": 12
        }
      ]
    },
    {
      "cell_type": "code",
      "metadata": {
        "colab": {
          "base_uri": "https://localhost:8080/",
          "height": 204
        },
        "id": "8kEHBkn_p6Oa",
        "outputId": "8d541e42-8975-4673-d2ea-28da26399059"
      },
      "source": [
        "# query: top 5 sales by vendor \n",
        "\n",
        "vendor_sum_sales = pd.io.gbq.read_gbq(\n",
        "    f\"\"\"\n",
        "  SELECT\n",
        "    LOWER(vendor_name) AS vendor,\n",
        "    ROUND(CAST(SUM(sale_dollars) AS numeric),0) AS total_sales\n",
        "  FROM\n",
        "    {dataloc}\n",
        "  GROUP BY\n",
        "    vendor\n",
        "  ORDER BY\n",
        "    total_sales DESC\n",
        "  \"\"\",\n",
        "    project_id=pjt_id,) \n",
        "\n",
        "vendor_sum_sales.head(5)"
      ],
      "execution_count": null,
      "outputs": [
        {
          "output_type": "execute_result",
          "data": {
            "text/html": [
              "<div>\n",
              "<style scoped>\n",
              "    .dataframe tbody tr th:only-of-type {\n",
              "        vertical-align: middle;\n",
              "    }\n",
              "\n",
              "    .dataframe tbody tr th {\n",
              "        vertical-align: top;\n",
              "    }\n",
              "\n",
              "    .dataframe thead th {\n",
              "        text-align: right;\n",
              "    }\n",
              "</style>\n",
              "<table border=\"1\" class=\"dataframe\">\n",
              "  <thead>\n",
              "    <tr style=\"text-align: right;\">\n",
              "      <th></th>\n",
              "      <th>vendor</th>\n",
              "      <th>total_sales</th>\n",
              "    </tr>\n",
              "  </thead>\n",
              "  <tbody>\n",
              "    <tr>\n",
              "      <th>0</th>\n",
              "      <td>diageo americas</td>\n",
              "      <td>551505642</td>\n",
              "    </tr>\n",
              "    <tr>\n",
              "      <th>1</th>\n",
              "      <td>jim beam brands</td>\n",
              "      <td>199903939</td>\n",
              "    </tr>\n",
              "    <tr>\n",
              "      <th>2</th>\n",
              "      <td>sazerac company  inc</td>\n",
              "      <td>115002985</td>\n",
              "    </tr>\n",
              "    <tr>\n",
              "      <th>3</th>\n",
              "      <td>pernod ricard usa</td>\n",
              "      <td>93186264</td>\n",
              "    </tr>\n",
              "    <tr>\n",
              "      <th>4</th>\n",
              "      <td>pernod ricard usa/austin nichols</td>\n",
              "      <td>92119352</td>\n",
              "    </tr>\n",
              "  </tbody>\n",
              "</table>\n",
              "</div>"
            ],
            "text/plain": [
              "                             vendor total_sales\n",
              "0                   diageo americas   551505642\n",
              "1                   jim beam brands   199903939\n",
              "2              sazerac company  inc   115002985\n",
              "3                 pernod ricard usa    93186264\n",
              "4  pernod ricard usa/austin nichols    92119352"
            ]
          },
          "metadata": {
            "tags": []
          },
          "execution_count": 13
        }
      ]
    },
    {
      "cell_type": "code",
      "metadata": {
        "colab": {
          "base_uri": "https://localhost:8080/",
          "height": 204
        },
        "id": "Ij1h5WsQsg37",
        "outputId": "93f7c3ed-8457-432c-95d4-8635503f9e9d"
      },
      "source": [
        "# query: top 5 sales by item \n",
        "\n",
        "item_sum_sales = pd.io.gbq.read_gbq(\n",
        "    f\"\"\"\n",
        "  SELECT\n",
        "    LOWER(item_description) AS item,\n",
        "    ROUND(CAST(SUM(sale_dollars) AS numeric),0) AS total_sales\n",
        "  FROM\n",
        "    {dataloc}\n",
        "  GROUP BY\n",
        "    item\n",
        "  ORDER BY\n",
        "    total_sales DESC\n",
        "     \"\"\",\n",
        "    project_id=pjt_id,) \n",
        "\n",
        "item_sum_sales.head(5)"
      ],
      "execution_count": null,
      "outputs": [
        {
          "output_type": "execute_result",
          "data": {
            "text/html": [
              "<div>\n",
              "<style scoped>\n",
              "    .dataframe tbody tr th:only-of-type {\n",
              "        vertical-align: middle;\n",
              "    }\n",
              "\n",
              "    .dataframe tbody tr th {\n",
              "        vertical-align: top;\n",
              "    }\n",
              "\n",
              "    .dataframe thead th {\n",
              "        text-align: right;\n",
              "    }\n",
              "</style>\n",
              "<table border=\"1\" class=\"dataframe\">\n",
              "  <thead>\n",
              "    <tr style=\"text-align: right;\">\n",
              "      <th></th>\n",
              "      <th>item</th>\n",
              "      <th>total_sales</th>\n",
              "    </tr>\n",
              "  </thead>\n",
              "  <tbody>\n",
              "    <tr>\n",
              "      <th>0</th>\n",
              "      <td>black velvet</td>\n",
              "      <td>103941337</td>\n",
              "    </tr>\n",
              "    <tr>\n",
              "      <th>1</th>\n",
              "      <td>captain morgan spiced rum</td>\n",
              "      <td>72872932</td>\n",
              "    </tr>\n",
              "    <tr>\n",
              "      <th>2</th>\n",
              "      <td>titos handmade vodka</td>\n",
              "      <td>67739561</td>\n",
              "    </tr>\n",
              "    <tr>\n",
              "      <th>3</th>\n",
              "      <td>jack daniels old #7 black lbl</td>\n",
              "      <td>67262715</td>\n",
              "    </tr>\n",
              "    <tr>\n",
              "      <th>4</th>\n",
              "      <td>fireball cinnamon whiskey</td>\n",
              "      <td>55922339</td>\n",
              "    </tr>\n",
              "  </tbody>\n",
              "</table>\n",
              "</div>"
            ],
            "text/plain": [
              "                            item total_sales\n",
              "0                   black velvet   103941337\n",
              "1      captain morgan spiced rum    72872932\n",
              "2           titos handmade vodka    67739561\n",
              "3  jack daniels old #7 black lbl    67262715\n",
              "4      fireball cinnamon whiskey    55922339"
            ]
          },
          "metadata": {
            "tags": []
          },
          "execution_count": 14
        }
      ]
    },
    {
      "cell_type": "code",
      "metadata": {
        "colab": {
          "base_uri": "https://localhost:8080/",
          "height": 204
        },
        "id": "doUGheyswGl9",
        "outputId": "274eadbd-0f2d-41ad-81f7-4e7998b76b35"
      },
      "source": [
        "# query: top 5 sales by item & category\n",
        "\n",
        "item_cat_sum_sales = pd.io.gbq.read_gbq(\n",
        "    f\"\"\"\n",
        "  SELECT\n",
        "    LOWER(item_description) AS item,\n",
        "    LOWER(category_name) AS category,\n",
        "    ROUND(CAST(SUM(sale_dollars) AS numeric),0) AS total_sales\n",
        "  FROM\n",
        "    {dataloc}\n",
        "  GROUP BY\n",
        "    item,category\n",
        "  ORDER BY\n",
        "    total_sales DESC\n",
        "       \"\"\",\n",
        "    project_id=pjt_id,) \n",
        "\n",
        "item_cat_sum_sales.head(5)"
      ],
      "execution_count": null,
      "outputs": [
        {
          "output_type": "execute_result",
          "data": {
            "text/html": [
              "<div>\n",
              "<style scoped>\n",
              "    .dataframe tbody tr th:only-of-type {\n",
              "        vertical-align: middle;\n",
              "    }\n",
              "\n",
              "    .dataframe tbody tr th {\n",
              "        vertical-align: top;\n",
              "    }\n",
              "\n",
              "    .dataframe thead th {\n",
              "        text-align: right;\n",
              "    }\n",
              "</style>\n",
              "<table border=\"1\" class=\"dataframe\">\n",
              "  <thead>\n",
              "    <tr style=\"text-align: right;\">\n",
              "      <th></th>\n",
              "      <th>item</th>\n",
              "      <th>category</th>\n",
              "      <th>total_sales</th>\n",
              "    </tr>\n",
              "  </thead>\n",
              "  <tbody>\n",
              "    <tr>\n",
              "      <th>0</th>\n",
              "      <td>black velvet</td>\n",
              "      <td>canadian whiskies</td>\n",
              "      <td>103941337</td>\n",
              "    </tr>\n",
              "    <tr>\n",
              "      <th>1</th>\n",
              "      <td>captain morgan spiced rum</td>\n",
              "      <td>spiced rum</td>\n",
              "      <td>72872932</td>\n",
              "    </tr>\n",
              "    <tr>\n",
              "      <th>2</th>\n",
              "      <td>jack daniels old #7 black lbl</td>\n",
              "      <td>tennessee whiskies</td>\n",
              "      <td>67262715</td>\n",
              "    </tr>\n",
              "    <tr>\n",
              "      <th>3</th>\n",
              "      <td>titos handmade vodka</td>\n",
              "      <td>american vodkas</td>\n",
              "      <td>60750450</td>\n",
              "    </tr>\n",
              "    <tr>\n",
              "      <th>4</th>\n",
              "      <td>fireball cinnamon whiskey</td>\n",
              "      <td>whiskey liqueur</td>\n",
              "      <td>55922339</td>\n",
              "    </tr>\n",
              "  </tbody>\n",
              "</table>\n",
              "</div>"
            ],
            "text/plain": [
              "                            item            category total_sales\n",
              "0                   black velvet   canadian whiskies   103941337\n",
              "1      captain morgan spiced rum          spiced rum    72872932\n",
              "2  jack daniels old #7 black lbl  tennessee whiskies    67262715\n",
              "3           titos handmade vodka     american vodkas    60750450\n",
              "4      fireball cinnamon whiskey     whiskey liqueur    55922339"
            ]
          },
          "metadata": {
            "tags": []
          },
          "execution_count": 15
        }
      ]
    },
    {
      "cell_type": "code",
      "metadata": {
        "colab": {
          "base_uri": "https://localhost:8080/",
          "height": 204
        },
        "id": "5QcDUaKWzpZ7",
        "outputId": "b7c7d30c-375e-4795-c32e-cc596c4d6573"
      },
      "source": [
        "# query: top 5 sales by item & category for 2020\n",
        "\n",
        "item_cat_sum_sales_2020 = pd.io.gbq.read_gbq(\n",
        "    f\"\"\"\n",
        "  SELECT\n",
        "    FORMAT_DATE('%Y', date) AS year,\n",
        "    LOWER(item_description) AS item,\n",
        "    LOWER(category_name) AS category,\n",
        "    ROUND(CAST(SUM(sale_dollars) AS numeric),0) AS total_sales\n",
        "  FROM\n",
        "    {dataloc}\n",
        "  WHERE\n",
        "    FORMAT_DATE('%Y', date) LIKE ('%2020%')\n",
        "  GROUP BY\n",
        "    item,\n",
        "    category,\n",
        "    year\n",
        "  ORDER BY\n",
        "    total_sales DESC\n",
        "       \"\"\",\n",
        "    project_id=pjt_id,) \n",
        "\n",
        "item_cat_sum_sales_2020.head(5)"
      ],
      "execution_count": null,
      "outputs": [
        {
          "output_type": "execute_result",
          "data": {
            "text/html": [
              "<div>\n",
              "<style scoped>\n",
              "    .dataframe tbody tr th:only-of-type {\n",
              "        vertical-align: middle;\n",
              "    }\n",
              "\n",
              "    .dataframe tbody tr th {\n",
              "        vertical-align: top;\n",
              "    }\n",
              "\n",
              "    .dataframe thead th {\n",
              "        text-align: right;\n",
              "    }\n",
              "</style>\n",
              "<table border=\"1\" class=\"dataframe\">\n",
              "  <thead>\n",
              "    <tr style=\"text-align: right;\">\n",
              "      <th></th>\n",
              "      <th>year</th>\n",
              "      <th>item</th>\n",
              "      <th>category</th>\n",
              "      <th>total_sales</th>\n",
              "    </tr>\n",
              "  </thead>\n",
              "  <tbody>\n",
              "    <tr>\n",
              "      <th>0</th>\n",
              "      <td>2020</td>\n",
              "      <td>titos handmade vodka</td>\n",
              "      <td>american vodkas</td>\n",
              "      <td>20148376</td>\n",
              "    </tr>\n",
              "    <tr>\n",
              "      <th>1</th>\n",
              "      <td>2020</td>\n",
              "      <td>black velvet</td>\n",
              "      <td>canadian whiskies</td>\n",
              "      <td>11308314</td>\n",
              "    </tr>\n",
              "    <tr>\n",
              "      <th>2</th>\n",
              "      <td>2020</td>\n",
              "      <td>hennessy vs</td>\n",
              "      <td>imported brandies</td>\n",
              "      <td>9315170</td>\n",
              "    </tr>\n",
              "    <tr>\n",
              "      <th>3</th>\n",
              "      <td>2020</td>\n",
              "      <td>captain morgan original spiced</td>\n",
              "      <td>spiced rum</td>\n",
              "      <td>8696774</td>\n",
              "    </tr>\n",
              "    <tr>\n",
              "      <th>4</th>\n",
              "      <td>2020</td>\n",
              "      <td>crown royal</td>\n",
              "      <td>canadian whiskies</td>\n",
              "      <td>8448506</td>\n",
              "    </tr>\n",
              "  </tbody>\n",
              "</table>\n",
              "</div>"
            ],
            "text/plain": [
              "   year                            item           category total_sales\n",
              "0  2020            titos handmade vodka    american vodkas    20148376\n",
              "1  2020                    black velvet  canadian whiskies    11308314\n",
              "2  2020                     hennessy vs  imported brandies     9315170\n",
              "3  2020  captain morgan original spiced         spiced rum     8696774\n",
              "4  2020                     crown royal  canadian whiskies     8448506"
            ]
          },
          "metadata": {
            "tags": []
          },
          "execution_count": 9
        }
      ]
    },
    {
      "cell_type": "code",
      "metadata": {
        "colab": {
          "base_uri": "https://localhost:8080/",
          "height": 542
        },
        "id": "BWCSDy5P5bbK",
        "outputId": "c47ca7e1-6cd3-42b1-e5f6-2f7cee2b90de"
      },
      "source": [
        "# plot: top 5 sales by item & category for 2020\n",
        "import plotly.express as px\n",
        "\n",
        "item_2020 = (\n",
        "    item_cat_sum_sales_2020.sort_values(by=\"total_sales\", ascending=False)\n",
        "    .head(10)\n",
        "    .copy()\n",
        ")\n",
        "item_2020 = item_2020.sort_values(by=\"total_sales\", ascending=True)\n",
        "\n",
        "fig = px.bar(\n",
        "    item_2020,\n",
        "    x=\"total_sales\",\n",
        "    y=\"item\",\n",
        "    orientation=\"h\",\n",
        "    text=\"total_sales\",\n",
        "    color=\"category\")\n",
        "\n",
        "# update bar markers\n",
        "fig.update_traces(textposition=\"outside\")\n",
        "\n",
        "# update plot details\n",
        "fig.update_layout(\n",
        "    {\"plot_bgcolor\": \"rgba(255,255,255, 0.9)\"},  # white background\n",
        "    title={\n",
        "        \"text\": f\"2020 Sales by Item & Category \",\n",
        "        \"y\": 0.98,\n",
        "        \"x\": 0.5,\n",
        "        \"xanchor\": \"center\",\n",
        "        \"yanchor\": \"top\",\n",
        "    },\n",
        "    yaxis_title=\"\" #remove axis titles\n",
        ")\n",
        "\n",
        "fig.show()"
      ],
      "execution_count": null,
      "outputs": [
        {
          "output_type": "display_data",
          "data": {
            "text/html": [
              "<html>\n",
              "<head><meta charset=\"utf-8\" /></head>\n",
              "<body>\n",
              "    <div>            <script src=\"https://cdnjs.cloudflare.com/ajax/libs/mathjax/2.7.5/MathJax.js?config=TeX-AMS-MML_SVG\"></script><script type=\"text/javascript\">if (window.MathJax) {MathJax.Hub.Config({SVG: {font: \"STIX-Web\"}});}</script>                <script type=\"text/javascript\">window.PlotlyConfig = {MathJaxConfig: 'local'};</script>\n",
              "        <script src=\"https://cdn.plot.ly/plotly-2.2.0.min.js\"></script>                <div id=\"3babcbaa-e043-4d7d-bd0a-35fc3b100558\" class=\"plotly-graph-div\" style=\"height:525px; width:100%;\"></div>            <script type=\"text/javascript\">                                    window.PLOTLYENV=window.PLOTLYENV || {};                                    if (document.getElementById(\"3babcbaa-e043-4d7d-bd0a-35fc3b100558\")) {                    Plotly.newPlot(                        \"3babcbaa-e043-4d7d-bd0a-35fc3b100558\",                        [{\"alignmentgroup\":\"True\",\"hovertemplate\":\"category=100% agave tequila<br>total_sales=%{text}<br>item=%{y}<extra></extra>\",\"legendgroup\":\"100% agave tequila\",\"marker\":{\"color\":\"#636efa\",\"pattern\":{\"shape\":\"\"}},\"name\":\"100% agave tequila\",\"offsetgroup\":\"100% agave tequila\",\"orientation\":\"h\",\"showlegend\":true,\"text\":[\"4450610\"],\"textposition\":\"outside\",\"type\":\"bar\",\"x\":[4450610.0],\"xaxis\":\"x\",\"y\":[\"patron silver\"],\"yaxis\":\"y\"},{\"alignmentgroup\":\"True\",\"hovertemplate\":\"category=irish whiskies<br>total_sales=%{text}<br>item=%{y}<extra></extra>\",\"legendgroup\":\"irish whiskies\",\"marker\":{\"color\":\"#EF553B\",\"pattern\":{\"shape\":\"\"}},\"name\":\"irish whiskies\",\"offsetgroup\":\"irish whiskies\",\"orientation\":\"h\",\"showlegend\":true,\"text\":[\"4883275\"],\"textposition\":\"outside\",\"type\":\"bar\",\"x\":[4883275.0],\"xaxis\":\"x\",\"y\":[\"jameson\"],\"yaxis\":\"y\"},{\"alignmentgroup\":\"True\",\"hovertemplate\":\"category=canadian whiskies<br>total_sales=%{text}<br>item=%{y}<extra></extra>\",\"legendgroup\":\"canadian whiskies\",\"marker\":{\"color\":\"#00cc96\",\"pattern\":{\"shape\":\"\"}},\"name\":\"canadian whiskies\",\"offsetgroup\":\"canadian whiskies\",\"orientation\":\"h\",\"showlegend\":true,\"text\":[\"6450812\",\"8448506\",\"11308314\"],\"textposition\":\"outside\",\"type\":\"bar\",\"x\":[6450812.0,8448506.0,11308314.0],\"xaxis\":\"x\",\"y\":[\"crown royal regal apple\",\"crown royal\",\"black velvet\"],\"yaxis\":\"y\"},{\"alignmentgroup\":\"True\",\"hovertemplate\":\"category=tennessee whiskies<br>total_sales=%{text}<br>item=%{y}<extra></extra>\",\"legendgroup\":\"tennessee whiskies\",\"marker\":{\"color\":\"#ab63fa\",\"pattern\":{\"shape\":\"\"}},\"name\":\"tennessee whiskies\",\"offsetgroup\":\"tennessee whiskies\",\"orientation\":\"h\",\"showlegend\":true,\"text\":[\"7926513\"],\"textposition\":\"outside\",\"type\":\"bar\",\"x\":[7926513.0],\"xaxis\":\"x\",\"y\":[\"jack daniels old #7 black label\"],\"yaxis\":\"y\"},{\"alignmentgroup\":\"True\",\"hovertemplate\":\"category=whiskey liqueur<br>total_sales=%{text}<br>item=%{y}<extra></extra>\",\"legendgroup\":\"whiskey liqueur\",\"marker\":{\"color\":\"#FFA15A\",\"pattern\":{\"shape\":\"\"}},\"name\":\"whiskey liqueur\",\"offsetgroup\":\"whiskey liqueur\",\"orientation\":\"h\",\"showlegend\":true,\"text\":[\"7969663\"],\"textposition\":\"outside\",\"type\":\"bar\",\"x\":[7969663.0],\"xaxis\":\"x\",\"y\":[\"fireball cinnamon whiskey\"],\"yaxis\":\"y\"},{\"alignmentgroup\":\"True\",\"hovertemplate\":\"category=spiced rum<br>total_sales=%{text}<br>item=%{y}<extra></extra>\",\"legendgroup\":\"spiced rum\",\"marker\":{\"color\":\"#19d3f3\",\"pattern\":{\"shape\":\"\"}},\"name\":\"spiced rum\",\"offsetgroup\":\"spiced rum\",\"orientation\":\"h\",\"showlegend\":true,\"text\":[\"8696774\"],\"textposition\":\"outside\",\"type\":\"bar\",\"x\":[8696774.0],\"xaxis\":\"x\",\"y\":[\"captain morgan original spiced\"],\"yaxis\":\"y\"},{\"alignmentgroup\":\"True\",\"hovertemplate\":\"category=imported brandies<br>total_sales=%{text}<br>item=%{y}<extra></extra>\",\"legendgroup\":\"imported brandies\",\"marker\":{\"color\":\"#FF6692\",\"pattern\":{\"shape\":\"\"}},\"name\":\"imported brandies\",\"offsetgroup\":\"imported brandies\",\"orientation\":\"h\",\"showlegend\":true,\"text\":[\"9315170\"],\"textposition\":\"outside\",\"type\":\"bar\",\"x\":[9315170.0],\"xaxis\":\"x\",\"y\":[\"hennessy vs\"],\"yaxis\":\"y\"},{\"alignmentgroup\":\"True\",\"hovertemplate\":\"category=american vodkas<br>total_sales=%{text}<br>item=%{y}<extra></extra>\",\"legendgroup\":\"american vodkas\",\"marker\":{\"color\":\"#B6E880\",\"pattern\":{\"shape\":\"\"}},\"name\":\"american vodkas\",\"offsetgroup\":\"american vodkas\",\"orientation\":\"h\",\"showlegend\":true,\"text\":[\"20148376\"],\"textposition\":\"outside\",\"type\":\"bar\",\"x\":[20148376.0],\"xaxis\":\"x\",\"y\":[\"titos handmade vodka\"],\"yaxis\":\"y\"}],                        {\"barmode\":\"relative\",\"legend\":{\"title\":{\"text\":\"category\"},\"tracegroupgap\":0},\"margin\":{\"t\":60},\"plot_bgcolor\":\"rgba(255,255,255, 0.9)\",\"template\":{\"data\":{\"bar\":[{\"error_x\":{\"color\":\"#2a3f5f\"},\"error_y\":{\"color\":\"#2a3f5f\"},\"marker\":{\"line\":{\"color\":\"#E5ECF6\",\"width\":0.5},\"pattern\":{\"fillmode\":\"overlay\",\"size\":10,\"solidity\":0.2}},\"type\":\"bar\"}],\"barpolar\":[{\"marker\":{\"line\":{\"color\":\"#E5ECF6\",\"width\":0.5},\"pattern\":{\"fillmode\":\"overlay\",\"size\":10,\"solidity\":0.2}},\"type\":\"barpolar\"}],\"carpet\":[{\"aaxis\":{\"endlinecolor\":\"#2a3f5f\",\"gridcolor\":\"white\",\"linecolor\":\"white\",\"minorgridcolor\":\"white\",\"startlinecolor\":\"#2a3f5f\"},\"baxis\":{\"endlinecolor\":\"#2a3f5f\",\"gridcolor\":\"white\",\"linecolor\":\"white\",\"minorgridcolor\":\"white\",\"startlinecolor\":\"#2a3f5f\"},\"type\":\"carpet\"}],\"choropleth\":[{\"colorbar\":{\"outlinewidth\":0,\"ticks\":\"\"},\"type\":\"choropleth\"}],\"contour\":[{\"colorbar\":{\"outlinewidth\":0,\"ticks\":\"\"},\"colorscale\":[[0.0,\"#0d0887\"],[0.1111111111111111,\"#46039f\"],[0.2222222222222222,\"#7201a8\"],[0.3333333333333333,\"#9c179e\"],[0.4444444444444444,\"#bd3786\"],[0.5555555555555556,\"#d8576b\"],[0.6666666666666666,\"#ed7953\"],[0.7777777777777778,\"#fb9f3a\"],[0.8888888888888888,\"#fdca26\"],[1.0,\"#f0f921\"]],\"type\":\"contour\"}],\"contourcarpet\":[{\"colorbar\":{\"outlinewidth\":0,\"ticks\":\"\"},\"type\":\"contourcarpet\"}],\"heatmap\":[{\"colorbar\":{\"outlinewidth\":0,\"ticks\":\"\"},\"colorscale\":[[0.0,\"#0d0887\"],[0.1111111111111111,\"#46039f\"],[0.2222222222222222,\"#7201a8\"],[0.3333333333333333,\"#9c179e\"],[0.4444444444444444,\"#bd3786\"],[0.5555555555555556,\"#d8576b\"],[0.6666666666666666,\"#ed7953\"],[0.7777777777777778,\"#fb9f3a\"],[0.8888888888888888,\"#fdca26\"],[1.0,\"#f0f921\"]],\"type\":\"heatmap\"}],\"heatmapgl\":[{\"colorbar\":{\"outlinewidth\":0,\"ticks\":\"\"},\"colorscale\":[[0.0,\"#0d0887\"],[0.1111111111111111,\"#46039f\"],[0.2222222222222222,\"#7201a8\"],[0.3333333333333333,\"#9c179e\"],[0.4444444444444444,\"#bd3786\"],[0.5555555555555556,\"#d8576b\"],[0.6666666666666666,\"#ed7953\"],[0.7777777777777778,\"#fb9f3a\"],[0.8888888888888888,\"#fdca26\"],[1.0,\"#f0f921\"]],\"type\":\"heatmapgl\"}],\"histogram\":[{\"marker\":{\"pattern\":{\"fillmode\":\"overlay\",\"size\":10,\"solidity\":0.2}},\"type\":\"histogram\"}],\"histogram2d\":[{\"colorbar\":{\"outlinewidth\":0,\"ticks\":\"\"},\"colorscale\":[[0.0,\"#0d0887\"],[0.1111111111111111,\"#46039f\"],[0.2222222222222222,\"#7201a8\"],[0.3333333333333333,\"#9c179e\"],[0.4444444444444444,\"#bd3786\"],[0.5555555555555556,\"#d8576b\"],[0.6666666666666666,\"#ed7953\"],[0.7777777777777778,\"#fb9f3a\"],[0.8888888888888888,\"#fdca26\"],[1.0,\"#f0f921\"]],\"type\":\"histogram2d\"}],\"histogram2dcontour\":[{\"colorbar\":{\"outlinewidth\":0,\"ticks\":\"\"},\"colorscale\":[[0.0,\"#0d0887\"],[0.1111111111111111,\"#46039f\"],[0.2222222222222222,\"#7201a8\"],[0.3333333333333333,\"#9c179e\"],[0.4444444444444444,\"#bd3786\"],[0.5555555555555556,\"#d8576b\"],[0.6666666666666666,\"#ed7953\"],[0.7777777777777778,\"#fb9f3a\"],[0.8888888888888888,\"#fdca26\"],[1.0,\"#f0f921\"]],\"type\":\"histogram2dcontour\"}],\"mesh3d\":[{\"colorbar\":{\"outlinewidth\":0,\"ticks\":\"\"},\"type\":\"mesh3d\"}],\"parcoords\":[{\"line\":{\"colorbar\":{\"outlinewidth\":0,\"ticks\":\"\"}},\"type\":\"parcoords\"}],\"pie\":[{\"automargin\":true,\"type\":\"pie\"}],\"scatter\":[{\"marker\":{\"colorbar\":{\"outlinewidth\":0,\"ticks\":\"\"}},\"type\":\"scatter\"}],\"scatter3d\":[{\"line\":{\"colorbar\":{\"outlinewidth\":0,\"ticks\":\"\"}},\"marker\":{\"colorbar\":{\"outlinewidth\":0,\"ticks\":\"\"}},\"type\":\"scatter3d\"}],\"scattercarpet\":[{\"marker\":{\"colorbar\":{\"outlinewidth\":0,\"ticks\":\"\"}},\"type\":\"scattercarpet\"}],\"scattergeo\":[{\"marker\":{\"colorbar\":{\"outlinewidth\":0,\"ticks\":\"\"}},\"type\":\"scattergeo\"}],\"scattergl\":[{\"marker\":{\"colorbar\":{\"outlinewidth\":0,\"ticks\":\"\"}},\"type\":\"scattergl\"}],\"scattermapbox\":[{\"marker\":{\"colorbar\":{\"outlinewidth\":0,\"ticks\":\"\"}},\"type\":\"scattermapbox\"}],\"scatterpolar\":[{\"marker\":{\"colorbar\":{\"outlinewidth\":0,\"ticks\":\"\"}},\"type\":\"scatterpolar\"}],\"scatterpolargl\":[{\"marker\":{\"colorbar\":{\"outlinewidth\":0,\"ticks\":\"\"}},\"type\":\"scatterpolargl\"}],\"scatterternary\":[{\"marker\":{\"colorbar\":{\"outlinewidth\":0,\"ticks\":\"\"}},\"type\":\"scatterternary\"}],\"surface\":[{\"colorbar\":{\"outlinewidth\":0,\"ticks\":\"\"},\"colorscale\":[[0.0,\"#0d0887\"],[0.1111111111111111,\"#46039f\"],[0.2222222222222222,\"#7201a8\"],[0.3333333333333333,\"#9c179e\"],[0.4444444444444444,\"#bd3786\"],[0.5555555555555556,\"#d8576b\"],[0.6666666666666666,\"#ed7953\"],[0.7777777777777778,\"#fb9f3a\"],[0.8888888888888888,\"#fdca26\"],[1.0,\"#f0f921\"]],\"type\":\"surface\"}],\"table\":[{\"cells\":{\"fill\":{\"color\":\"#EBF0F8\"},\"line\":{\"color\":\"white\"}},\"header\":{\"fill\":{\"color\":\"#C8D4E3\"},\"line\":{\"color\":\"white\"}},\"type\":\"table\"}]},\"layout\":{\"annotationdefaults\":{\"arrowcolor\":\"#2a3f5f\",\"arrowhead\":0,\"arrowwidth\":1},\"autotypenumbers\":\"strict\",\"coloraxis\":{\"colorbar\":{\"outlinewidth\":0,\"ticks\":\"\"}},\"colorscale\":{\"diverging\":[[0,\"#8e0152\"],[0.1,\"#c51b7d\"],[0.2,\"#de77ae\"],[0.3,\"#f1b6da\"],[0.4,\"#fde0ef\"],[0.5,\"#f7f7f7\"],[0.6,\"#e6f5d0\"],[0.7,\"#b8e186\"],[0.8,\"#7fbc41\"],[0.9,\"#4d9221\"],[1,\"#276419\"]],\"sequential\":[[0.0,\"#0d0887\"],[0.1111111111111111,\"#46039f\"],[0.2222222222222222,\"#7201a8\"],[0.3333333333333333,\"#9c179e\"],[0.4444444444444444,\"#bd3786\"],[0.5555555555555556,\"#d8576b\"],[0.6666666666666666,\"#ed7953\"],[0.7777777777777778,\"#fb9f3a\"],[0.8888888888888888,\"#fdca26\"],[1.0,\"#f0f921\"]],\"sequentialminus\":[[0.0,\"#0d0887\"],[0.1111111111111111,\"#46039f\"],[0.2222222222222222,\"#7201a8\"],[0.3333333333333333,\"#9c179e\"],[0.4444444444444444,\"#bd3786\"],[0.5555555555555556,\"#d8576b\"],[0.6666666666666666,\"#ed7953\"],[0.7777777777777778,\"#fb9f3a\"],[0.8888888888888888,\"#fdca26\"],[1.0,\"#f0f921\"]]},\"colorway\":[\"#636efa\",\"#EF553B\",\"#00cc96\",\"#ab63fa\",\"#FFA15A\",\"#19d3f3\",\"#FF6692\",\"#B6E880\",\"#FF97FF\",\"#FECB52\"],\"font\":{\"color\":\"#2a3f5f\"},\"geo\":{\"bgcolor\":\"white\",\"lakecolor\":\"white\",\"landcolor\":\"#E5ECF6\",\"showlakes\":true,\"showland\":true,\"subunitcolor\":\"white\"},\"hoverlabel\":{\"align\":\"left\"},\"hovermode\":\"closest\",\"mapbox\":{\"style\":\"light\"},\"paper_bgcolor\":\"white\",\"plot_bgcolor\":\"#E5ECF6\",\"polar\":{\"angularaxis\":{\"gridcolor\":\"white\",\"linecolor\":\"white\",\"ticks\":\"\"},\"bgcolor\":\"#E5ECF6\",\"radialaxis\":{\"gridcolor\":\"white\",\"linecolor\":\"white\",\"ticks\":\"\"}},\"scene\":{\"xaxis\":{\"backgroundcolor\":\"#E5ECF6\",\"gridcolor\":\"white\",\"gridwidth\":2,\"linecolor\":\"white\",\"showbackground\":true,\"ticks\":\"\",\"zerolinecolor\":\"white\"},\"yaxis\":{\"backgroundcolor\":\"#E5ECF6\",\"gridcolor\":\"white\",\"gridwidth\":2,\"linecolor\":\"white\",\"showbackground\":true,\"ticks\":\"\",\"zerolinecolor\":\"white\"},\"zaxis\":{\"backgroundcolor\":\"#E5ECF6\",\"gridcolor\":\"white\",\"gridwidth\":2,\"linecolor\":\"white\",\"showbackground\":true,\"ticks\":\"\",\"zerolinecolor\":\"white\"}},\"shapedefaults\":{\"line\":{\"color\":\"#2a3f5f\"}},\"ternary\":{\"aaxis\":{\"gridcolor\":\"white\",\"linecolor\":\"white\",\"ticks\":\"\"},\"baxis\":{\"gridcolor\":\"white\",\"linecolor\":\"white\",\"ticks\":\"\"},\"bgcolor\":\"#E5ECF6\",\"caxis\":{\"gridcolor\":\"white\",\"linecolor\":\"white\",\"ticks\":\"\"}},\"title\":{\"x\":0.05},\"xaxis\":{\"automargin\":true,\"gridcolor\":\"white\",\"linecolor\":\"white\",\"ticks\":\"\",\"title\":{\"standoff\":15},\"zerolinecolor\":\"white\",\"zerolinewidth\":2},\"yaxis\":{\"automargin\":true,\"gridcolor\":\"white\",\"linecolor\":\"white\",\"ticks\":\"\",\"title\":{\"standoff\":15},\"zerolinecolor\":\"white\",\"zerolinewidth\":2}}},\"title\":{\"text\":\"2020 Sales by Item & Category \",\"x\":0.5,\"xanchor\":\"center\",\"y\":0.98,\"yanchor\":\"top\"},\"xaxis\":{\"anchor\":\"y\",\"domain\":[0.0,1.0],\"title\":{\"text\":\"total_sales\"}},\"yaxis\":{\"anchor\":\"x\",\"domain\":[0.0,1.0],\"title\":{\"text\":\"\"}}},                        {\"responsive\": true}                    ).then(function(){\n",
              "                            \n",
              "var gd = document.getElementById('3babcbaa-e043-4d7d-bd0a-35fc3b100558');\n",
              "var x = new MutationObserver(function (mutations, observer) {{\n",
              "        var display = window.getComputedStyle(gd).display;\n",
              "        if (!display || display === 'none') {{\n",
              "            console.log([gd, 'removed!']);\n",
              "            Plotly.purge(gd);\n",
              "            observer.disconnect();\n",
              "        }}\n",
              "}});\n",
              "\n",
              "// Listen for the removal of the full notebook cells\n",
              "var notebookContainer = gd.closest('#notebook-container');\n",
              "if (notebookContainer) {{\n",
              "    x.observe(notebookContainer, {childList: true});\n",
              "}}\n",
              "\n",
              "// Listen for the clearing of the current output cell\n",
              "var outputEl = gd.closest('.output');\n",
              "if (outputEl) {{\n",
              "    x.observe(outputEl, {childList: true});\n",
              "}}\n",
              "\n",
              "                        })                };                            </script>        </div>\n",
              "</body>\n",
              "</html>"
            ]
          },
          "metadata": {
            "tags": []
          }
        }
      ]
    },
    {
      "cell_type": "code",
      "metadata": {
        "colab": {
          "base_uri": "https://localhost:8080/",
          "height": 204
        },
        "id": "90mJ5FW9acZO",
        "outputId": "c000c731-0981-40a4-9732-eab5f4be62a6"
      },
      "source": [
        "# query: top 5 sales by item & category for past 10 years\n",
        "\n",
        "item_cat_sum_sales = pd.io.gbq.read_gbq(\n",
        "    f\"\"\"\n",
        "  SELECT\n",
        "    FORMAT_DATE('%Y', date) AS year,\n",
        "    LOWER(item_description) AS item,\n",
        "    LOWER(category_name) AS category,\n",
        "    ROUND(CAST(SUM(sale_dollars) AS numeric),0) AS total_sales\n",
        "  FROM\n",
        "    {dataloc}\n",
        "  GROUP BY\n",
        "    item,\n",
        "    category,\n",
        "    year\n",
        "  ORDER BY\n",
        "    total_sales DESC\n",
        "       \"\"\",\n",
        "    project_id=pjt_id,) \n",
        "\n",
        "item_cat_sum_sales.sample()"
      ],
      "execution_count": null,
      "outputs": [
        {
          "output_type": "execute_result",
          "data": {
            "text/html": [
              "<div>\n",
              "<style scoped>\n",
              "    .dataframe tbody tr th:only-of-type {\n",
              "        vertical-align: middle;\n",
              "    }\n",
              "\n",
              "    .dataframe tbody tr th {\n",
              "        vertical-align: top;\n",
              "    }\n",
              "\n",
              "    .dataframe thead th {\n",
              "        text-align: right;\n",
              "    }\n",
              "</style>\n",
              "<table border=\"1\" class=\"dataframe\">\n",
              "  <thead>\n",
              "    <tr style=\"text-align: right;\">\n",
              "      <th></th>\n",
              "      <th>year</th>\n",
              "      <th>item</th>\n",
              "      <th>category</th>\n",
              "      <th>total_sales</th>\n",
              "    </tr>\n",
              "  </thead>\n",
              "  <tbody>\n",
              "    <tr>\n",
              "      <th>0</th>\n",
              "      <td>2020</td>\n",
              "      <td>titos handmade vodka</td>\n",
              "      <td>american vodkas</td>\n",
              "      <td>20148376</td>\n",
              "    </tr>\n",
              "    <tr>\n",
              "      <th>1</th>\n",
              "      <td>2018</td>\n",
              "      <td>titos handmade vodka</td>\n",
              "      <td>american vodkas</td>\n",
              "      <td>14943390</td>\n",
              "    </tr>\n",
              "    <tr>\n",
              "      <th>2</th>\n",
              "      <td>2017</td>\n",
              "      <td>black velvet</td>\n",
              "      <td>canadian whiskies</td>\n",
              "      <td>13258183</td>\n",
              "    </tr>\n",
              "    <tr>\n",
              "      <th>3</th>\n",
              "      <td>2018</td>\n",
              "      <td>black velvet</td>\n",
              "      <td>canadian whiskies</td>\n",
              "      <td>13079561</td>\n",
              "    </tr>\n",
              "    <tr>\n",
              "      <th>4</th>\n",
              "      <td>2016</td>\n",
              "      <td>black velvet</td>\n",
              "      <td>canadian whiskies</td>\n",
              "      <td>12378453</td>\n",
              "    </tr>\n",
              "  </tbody>\n",
              "</table>\n",
              "</div>"
            ],
            "text/plain": [
              "   year                  item           category total_sales\n",
              "0  2020  titos handmade vodka    american vodkas    20148376\n",
              "1  2018  titos handmade vodka    american vodkas    14943390\n",
              "2  2017          black velvet  canadian whiskies    13258183\n",
              "3  2018          black velvet  canadian whiskies    13079561\n",
              "4  2016          black velvet  canadian whiskies    12378453"
            ]
          },
          "metadata": {
            "tags": []
          },
          "execution_count": 16
        }
      ]
    },
    {
      "cell_type": "code",
      "metadata": {
        "id": "k_H0UKjZFPrd"
      },
      "source": [
        "# create new table of items sales grouped by item,category, year \n",
        "\n",
        "item_sales = pd.io.gbq.read_gbq(\n",
        "    f\"\"\"\n",
        "CREATE TABLE\n",
        "  `brilliant-era-321603.wbie.sale_items_by_year` AS\n",
        "SELECT\n",
        "  FORMAT_DATE('%Y', date) AS year,\n",
        "  LOWER(item_description) AS item,\n",
        "  LOWER(category_name) AS category,\n",
        "  ROUND(CAST(SUM(sale_dollars) AS numeric),0) AS total_sales\n",
        "FROM\n",
        "    {dataloc}\n",
        "GROUP BY\n",
        "  item,\n",
        "  category,\n",
        "  year;\"\"\",\n",
        "    project_id=pjt_id,) \n",
        "\n",
        "# run only once\n",
        "# item_sales"
      ],
      "execution_count": null,
      "outputs": []
    },
    {
      "cell_type": "code",
      "metadata": {
        "colab": {
          "base_uri": "https://localhost:8080/",
          "height": 359
        },
        "id": "ESz4fEK1W5O_",
        "outputId": "1e2c1a2a-e5bc-4608-e877-49dffeb142e5"
      },
      "source": [
        "# Top 5 items by year (over 10 years)\n",
        "\n",
        "item_sales_yrs = pd.io.gbq.read_gbq(\n",
        "    f\"\"\"\n",
        "SELECT   \n",
        "  year,\n",
        "  ARRAY_AGG(STRUCT(item,\n",
        "      total_sales)\n",
        "  ORDER BY\n",
        "    total_sales DESC\n",
        "  LIMIT\n",
        "    5) AS top_sales\n",
        "FROM `brilliant-era-321603.wbie.sale_items_by_year`\n",
        "GROUP BY\n",
        "  year\n",
        "ORDER BY\n",
        "  year DESC\"\"\",\n",
        "    project_id=pjt_id,) \n",
        "\n",
        "item_sales_yrs.head(10)"
      ],
      "execution_count": null,
      "outputs": [
        {
          "output_type": "execute_result",
          "data": {
            "text/html": [
              "<div>\n",
              "<style scoped>\n",
              "    .dataframe tbody tr th:only-of-type {\n",
              "        vertical-align: middle;\n",
              "    }\n",
              "\n",
              "    .dataframe tbody tr th {\n",
              "        vertical-align: top;\n",
              "    }\n",
              "\n",
              "    .dataframe thead th {\n",
              "        text-align: right;\n",
              "    }\n",
              "</style>\n",
              "<table border=\"1\" class=\"dataframe\">\n",
              "  <thead>\n",
              "    <tr style=\"text-align: right;\">\n",
              "      <th></th>\n",
              "      <th>year</th>\n",
              "      <th>top_sales</th>\n",
              "    </tr>\n",
              "  </thead>\n",
              "  <tbody>\n",
              "    <tr>\n",
              "      <th>0</th>\n",
              "      <td>2020</td>\n",
              "      <td>[{'item': 'titos handmade vodka', 'total_sales...</td>\n",
              "    </tr>\n",
              "    <tr>\n",
              "      <th>1</th>\n",
              "      <td>2019</td>\n",
              "      <td>[{'item': 'titos handmade vodka', 'total_sales...</td>\n",
              "    </tr>\n",
              "    <tr>\n",
              "      <th>2</th>\n",
              "      <td>2018</td>\n",
              "      <td>[{'item': 'titos handmade vodka', 'total_sales...</td>\n",
              "    </tr>\n",
              "    <tr>\n",
              "      <th>3</th>\n",
              "      <td>2017</td>\n",
              "      <td>[{'item': 'black velvet', 'total_sales': 13258...</td>\n",
              "    </tr>\n",
              "    <tr>\n",
              "      <th>4</th>\n",
              "      <td>2016</td>\n",
              "      <td>[{'item': 'black velvet', 'total_sales': 12378...</td>\n",
              "    </tr>\n",
              "    <tr>\n",
              "      <th>5</th>\n",
              "      <td>2015</td>\n",
              "      <td>[{'item': 'black velvet', 'total_sales': 12113...</td>\n",
              "    </tr>\n",
              "    <tr>\n",
              "      <th>6</th>\n",
              "      <td>2014</td>\n",
              "      <td>[{'item': 'black velvet', 'total_sales': 11697...</td>\n",
              "    </tr>\n",
              "    <tr>\n",
              "      <th>7</th>\n",
              "      <td>2013</td>\n",
              "      <td>[{'item': 'black velvet', 'total_sales': 11096...</td>\n",
              "    </tr>\n",
              "    <tr>\n",
              "      <th>8</th>\n",
              "      <td>2012</td>\n",
              "      <td>[{'item': 'black velvet', 'total_sales': 10530...</td>\n",
              "    </tr>\n",
              "    <tr>\n",
              "      <th>9</th>\n",
              "      <td>None</td>\n",
              "      <td>[{'item': None, 'total_sales': None}]</td>\n",
              "    </tr>\n",
              "  </tbody>\n",
              "</table>\n",
              "</div>"
            ],
            "text/plain": [
              "   year                                          top_sales\n",
              "0  2020  [{'item': 'titos handmade vodka', 'total_sales...\n",
              "1  2019  [{'item': 'titos handmade vodka', 'total_sales...\n",
              "2  2018  [{'item': 'titos handmade vodka', 'total_sales...\n",
              "3  2017  [{'item': 'black velvet', 'total_sales': 13258...\n",
              "4  2016  [{'item': 'black velvet', 'total_sales': 12378...\n",
              "5  2015  [{'item': 'black velvet', 'total_sales': 12113...\n",
              "6  2014  [{'item': 'black velvet', 'total_sales': 11697...\n",
              "7  2013  [{'item': 'black velvet', 'total_sales': 11096...\n",
              "8  2012  [{'item': 'black velvet', 'total_sales': 10530...\n",
              "9  None              [{'item': None, 'total_sales': None}]"
            ]
          },
          "metadata": {
            "tags": []
          },
          "execution_count": 41
        }
      ]
    },
    {
      "cell_type": "code",
      "metadata": {
        "id": "ANyPQT0Jiror"
      },
      "source": [
        "# convert sql ARRAY_AGG(STRUCT) to df\n",
        "\n",
        "yr_2020 = pd.DataFrame(item_sales_yrs.iloc[0, 1])\n",
        "yr_2019 = pd.DataFrame(item_sales_yrs.iloc[1, 1])\n",
        "yr_2018 = pd.DataFrame(item_sales_yrs.iloc[2, 1])\n",
        "yr_2017 = pd.DataFrame(item_sales_yrs.iloc[3, 1])\n",
        "yr_2016 = pd.DataFrame(item_sales_yrs.iloc[4, 1])\n",
        "yr_2015 = pd.DataFrame(item_sales_yrs.iloc[5, 1])\n",
        "yr_2014 = pd.DataFrame(item_sales_yrs.iloc[6, 1])\n",
        "yr_2013 = pd.DataFrame(item_sales_yrs.iloc[7, 1])\n",
        "yr_2012 = pd.DataFrame(item_sales_yrs.iloc[8, 1])\n",
        "\n",
        "\n",
        "yr_2020[\"year\"] = 2020\n",
        "yr_2019[\"year\"] = 2019\n",
        "yr_2018[\"year\"] = 2018\n",
        "yr_2017[\"year\"] = 2017\n",
        "yr_2016[\"year\"] = 2016\n",
        "yr_2015[\"year\"] = 2015\n",
        "yr_2014[\"year\"] = 2014\n",
        "yr_2013[\"year\"] = 2013\n",
        "yr_2012[\"year\"] = 2012\n",
        "\n",
        "\n",
        "df = yr_2020.append(\n",
        "    [yr_2019, yr_2018, yr_2017, yr_2016, yr_2015, yr_2014, yr_2013, yr_2012], sort=False\n",
        ").reset_index(drop=True)"
      ],
      "execution_count": null,
      "outputs": []
    },
    {
      "cell_type": "markdown",
      "metadata": {
        "id": "_RY19zSUgV01"
      },
      "source": [
        "# References \n",
        "\n",
        "Google Cloud Docs: [SQL Date Formating](https://cloud.google.com/bigquery/docs/reference/standard-sql/functions-and-operators#format_date)"
      ]
    }
  ]
}